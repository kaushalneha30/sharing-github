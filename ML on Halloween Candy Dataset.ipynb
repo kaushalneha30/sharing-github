{
  "cells": [
    {
      "metadata": {},
      "cell_type": "markdown",
      "source": "# <img src=\"https://encrypted-tbn0.gstatic.com/images?q=tbn%3AANd9GcTE2v_RBFRd6_fPwA5wYa0gjfhV3M2lzCp5uQ&usqp=CAU\" width=\"240\" height=\"360\" />\n\n # Machine Learning on Candy dataset"
    },
    {
      "metadata": {},
      "cell_type": "markdown",
      "source": "# Table of Contents\n\n1. [Problem Statement](#section1)<br>\n2. [Data Loading and Description](#section2)\n3. [Preprocessing](#section3)\n4. [Model fitting and evaluation](#section4)<br>"
    },
    {
      "metadata": {},
      "cell_type": "markdown",
      "source": "<a id=section1></a>"
    },
    {
      "metadata": {},
      "cell_type": "markdown",
      "source": "## 1. Problem Statement"
    },
    {
      "metadata": {},
      "cell_type": "markdown",
      "source": " The goal is to predict winpercent of halloween candies and find best fitting model from Linear Regression, Decision Tree and Random Forest."
    },
    {
      "metadata": {},
      "cell_type": "markdown",
      "source": "<a id=section2></a>"
    },
    {
      "metadata": {},
      "cell_type": "markdown",
      "source": "## 2. Data Loading and Description"
    },
    {
      "metadata": {},
      "cell_type": "markdown",
      "source": "<a id=section201></a>"
    },
    {
      "metadata": {
        "_cell_guid": "e4a1cf77-b695-4ca0-9653-6c41ce2393d8",
        "_uuid": "ca91678a9dc8cc103a7fbf799a5d903a011334ef"
      },
      "cell_type": "markdown",
      "source": "- Data was collected by creating a website where participants were shown presenting two fun-sized candies and asked to click on the one they would prefer to receive.\n- The dataset comprises of __85 candies and 13 feature columns__. Below is a table showing names of all the columns and their description."
    },
    {
      "metadata": {},
      "cell_type": "markdown",
      "source": "| Column Name     | Description                                               |\n| -------------   |:-------------                                            :| \n| competitorname  | Name of competitor candy                                  | \n| chocolate       | Does it contain chocolate?                                |  \n| fruity          | Is it fruit flavored?                                     | \n| caramel         | Is there caramel in the candy?                            |   \n| peanutalmondy   | Does it contain peanuts, peanut butter or almonds?        |\n| nougat          | Does it contain nougat?                                   |\n| crispedricewafer| Number of sibling and/or spouse travelling with passenger |\n| hard            | Is it a hard candy?                                       |\n| bar             | Is it a candy bar?                                        |\n| pluribus        | Is it one of many candies in a bag or box?                |\n| sugarpercent    | The percentile of sugar it falls under within the data set|\n| pricepercent    | The unit price percentile compared to the rest of the set |\n| winpercent      | The overall win percentage                                |"
    },
    {
      "metadata": {
        "_cell_guid": "998b2a03-c60e-4fd6-9f69-784de6e6c9b8",
        "_uuid": "d3086cb02907affe5a674b54e4baaedd632482c7"
      },
      "cell_type": "markdown",
      "source": "#### Importing packages                                          "
    },
    {
      "metadata": {
        "trusted": true
      },
      "cell_type": "code",
      "source": "#importng calculation, visualization, dataframe, ML model creation packages\n\nimport pandas as pd \nimport seaborn as sns \nimport matplotlib.pyplot as plt\n\n\nfrom sklearn import metrics \n\nimport numpy as np \n\n# allow plots to appear directly in the notebook\n%matplotlib inline",
      "execution_count": 1,
      "outputs": [
        {
          "output_type": "stream",
          "text": "/home/nbuser/anaconda3_420/lib/python3.5/site-packages/matplotlib/font_manager.py:281: UserWarning: Matplotlib is building the font cache using fc-list. This may take a moment.\n  'Matplotlib is building the font cache using fc-list. '\n",
          "name": "stderr"
        }
      ]
    },
    {
      "metadata": {},
      "cell_type": "markdown",
      "source": "#### Importing the Dataset"
    },
    {
      "metadata": {
        "_cell_guid": "080fb327-390d-4124-b287-a561d050fe7e",
        "_uuid": "0333d5086a63e3870708e7ba7a540d036c53544e",
        "trusted": true
      },
      "cell_type": "code",
      "source": "#load data\n\ndata = pd.read_csv(\"https://raw.githubusercontent.com/insaid2018/Term-2/master/Projects/candy-data.csv\")\ndata.head()",
      "execution_count": 3,
      "outputs": [
        {
          "output_type": "execute_result",
          "execution_count": 3,
          "data": {
            "text/plain": "  competitorname  chocolate  fruity  caramel  peanutyalmondy  nougat  \\\n0      100 Grand          1       0        1               0       0   \n1   3 Musketeers          1       0        0               0       1   \n2       One dime          0       0        0               0       0   \n3    One quarter          0       0        0               0       0   \n4      Air Heads          0       1        0               0       0   \n\n   crispedricewafer  hard  bar  pluribus  sugarpercent  pricepercent  \\\n0                 1     0    1         0         0.732         0.860   \n1                 0     0    1         0         0.604         0.511   \n2                 0     0    0         0         0.011         0.116   \n3                 0     0    0         0         0.011         0.511   \n4                 0     0    0         0         0.906         0.511   \n\n   winpercent  \n0   66.971725  \n1   67.602936  \n2   32.261086  \n3   46.116505  \n4   52.341465  ",
            "text/html": "<div>\n<table border=\"1\" class=\"dataframe\">\n  <thead>\n    <tr style=\"text-align: right;\">\n      <th></th>\n      <th>competitorname</th>\n      <th>chocolate</th>\n      <th>fruity</th>\n      <th>caramel</th>\n      <th>peanutyalmondy</th>\n      <th>nougat</th>\n      <th>crispedricewafer</th>\n      <th>hard</th>\n      <th>bar</th>\n      <th>pluribus</th>\n      <th>sugarpercent</th>\n      <th>pricepercent</th>\n      <th>winpercent</th>\n    </tr>\n  </thead>\n  <tbody>\n    <tr>\n      <th>0</th>\n      <td>100 Grand</td>\n      <td>1</td>\n      <td>0</td>\n      <td>1</td>\n      <td>0</td>\n      <td>0</td>\n      <td>1</td>\n      <td>0</td>\n      <td>1</td>\n      <td>0</td>\n      <td>0.732</td>\n      <td>0.860</td>\n      <td>66.971725</td>\n    </tr>\n    <tr>\n      <th>1</th>\n      <td>3 Musketeers</td>\n      <td>1</td>\n      <td>0</td>\n      <td>0</td>\n      <td>0</td>\n      <td>1</td>\n      <td>0</td>\n      <td>0</td>\n      <td>1</td>\n      <td>0</td>\n      <td>0.604</td>\n      <td>0.511</td>\n      <td>67.602936</td>\n    </tr>\n    <tr>\n      <th>2</th>\n      <td>One dime</td>\n      <td>0</td>\n      <td>0</td>\n      <td>0</td>\n      <td>0</td>\n      <td>0</td>\n      <td>0</td>\n      <td>0</td>\n      <td>0</td>\n      <td>0</td>\n      <td>0.011</td>\n      <td>0.116</td>\n      <td>32.261086</td>\n    </tr>\n    <tr>\n      <th>3</th>\n      <td>One quarter</td>\n      <td>0</td>\n      <td>0</td>\n      <td>0</td>\n      <td>0</td>\n      <td>0</td>\n      <td>0</td>\n      <td>0</td>\n      <td>0</td>\n      <td>0</td>\n      <td>0.011</td>\n      <td>0.511</td>\n      <td>46.116505</td>\n    </tr>\n    <tr>\n      <th>4</th>\n      <td>Air Heads</td>\n      <td>0</td>\n      <td>1</td>\n      <td>0</td>\n      <td>0</td>\n      <td>0</td>\n      <td>0</td>\n      <td>0</td>\n      <td>0</td>\n      <td>0</td>\n      <td>0.906</td>\n      <td>0.511</td>\n      <td>52.341465</td>\n    </tr>\n  </tbody>\n</table>\n</div>"
          },
          "metadata": {}
        }
      ]
    },
    {
      "metadata": {
        "trusted": false
      },
      "cell_type": "code",
      "source": "#data info\n\nprint(data.shape)\ndata.info()",
      "execution_count": 4,
      "outputs": [
        {
          "data": {
            "text/html": "<div>\n<style scoped>\n    .dataframe tbody tr th:only-of-type {\n        vertical-align: middle;\n    }\n\n    .dataframe tbody tr th {\n        vertical-align: top;\n    }\n\n    .dataframe thead th {\n        text-align: right;\n    }\n</style>\n<table border=\"1\" class=\"dataframe\">\n  <thead>\n    <tr style=\"text-align: right;\">\n      <th></th>\n      <th>PassengerId</th>\n      <th>Survived</th>\n      <th>Pclass</th>\n      <th>Name</th>\n      <th>Sex</th>\n      <th>Age</th>\n      <th>SibSp</th>\n      <th>Parch</th>\n      <th>Ticket</th>\n      <th>Fare</th>\n      <th>Cabin</th>\n      <th>Embarked</th>\n    </tr>\n  </thead>\n  <tbody>\n    <tr>\n      <th>0</th>\n      <td>1</td>\n      <td>0</td>\n      <td>3</td>\n      <td>Braund, Mr. Owen Harris</td>\n      <td>male</td>\n      <td>22.0</td>\n      <td>1</td>\n      <td>0</td>\n      <td>A/5 21171</td>\n      <td>7.2500</td>\n      <td>NaN</td>\n      <td>S</td>\n    </tr>\n    <tr>\n      <th>1</th>\n      <td>2</td>\n      <td>1</td>\n      <td>1</td>\n      <td>Cumings, Mrs. John Bradley (Florence Briggs Th...</td>\n      <td>female</td>\n      <td>38.0</td>\n      <td>1</td>\n      <td>0</td>\n      <td>PC 17599</td>\n      <td>71.2833</td>\n      <td>C85</td>\n      <td>C</td>\n    </tr>\n    <tr>\n      <th>2</th>\n      <td>3</td>\n      <td>1</td>\n      <td>3</td>\n      <td>Heikkinen, Miss. Laina</td>\n      <td>female</td>\n      <td>26.0</td>\n      <td>0</td>\n      <td>0</td>\n      <td>STON/O2. 3101282</td>\n      <td>7.9250</td>\n      <td>NaN</td>\n      <td>S</td>\n    </tr>\n    <tr>\n      <th>3</th>\n      <td>4</td>\n      <td>1</td>\n      <td>1</td>\n      <td>Futrelle, Mrs. Jacques Heath (Lily May Peel)</td>\n      <td>female</td>\n      <td>35.0</td>\n      <td>1</td>\n      <td>0</td>\n      <td>113803</td>\n      <td>53.1000</td>\n      <td>C123</td>\n      <td>S</td>\n    </tr>\n    <tr>\n      <th>4</th>\n      <td>5</td>\n      <td>0</td>\n      <td>3</td>\n      <td>Allen, Mr. William Henry</td>\n      <td>male</td>\n      <td>35.0</td>\n      <td>0</td>\n      <td>0</td>\n      <td>373450</td>\n      <td>8.0500</td>\n      <td>NaN</td>\n      <td>S</td>\n    </tr>\n    <tr>\n      <th>5</th>\n      <td>6</td>\n      <td>0</td>\n      <td>3</td>\n      <td>Moran, Mr. James</td>\n      <td>male</td>\n      <td>NaN</td>\n      <td>0</td>\n      <td>0</td>\n      <td>330877</td>\n      <td>8.4583</td>\n      <td>NaN</td>\n      <td>Q</td>\n    </tr>\n    <tr>\n      <th>6</th>\n      <td>7</td>\n      <td>0</td>\n      <td>1</td>\n      <td>McCarthy, Mr. Timothy J</td>\n      <td>male</td>\n      <td>54.0</td>\n      <td>0</td>\n      <td>0</td>\n      <td>17463</td>\n      <td>51.8625</td>\n      <td>E46</td>\n      <td>S</td>\n    </tr>\n    <tr>\n      <th>7</th>\n      <td>8</td>\n      <td>0</td>\n      <td>3</td>\n      <td>Palsson, Master. Gosta Leonard</td>\n      <td>male</td>\n      <td>2.0</td>\n      <td>3</td>\n      <td>1</td>\n      <td>349909</td>\n      <td>21.0750</td>\n      <td>NaN</td>\n      <td>S</td>\n    </tr>\n    <tr>\n      <th>8</th>\n      <td>9</td>\n      <td>1</td>\n      <td>3</td>\n      <td>Johnson, Mrs. Oscar W (Elisabeth Vilhelmina Berg)</td>\n      <td>female</td>\n      <td>27.0</td>\n      <td>0</td>\n      <td>2</td>\n      <td>347742</td>\n      <td>11.1333</td>\n      <td>NaN</td>\n      <td>S</td>\n    </tr>\n    <tr>\n      <th>9</th>\n      <td>10</td>\n      <td>1</td>\n      <td>2</td>\n      <td>Nasser, Mrs. Nicholas (Adele Achem)</td>\n      <td>female</td>\n      <td>14.0</td>\n      <td>1</td>\n      <td>0</td>\n      <td>237736</td>\n      <td>30.0708</td>\n      <td>NaN</td>\n      <td>C</td>\n    </tr>\n  </tbody>\n</table>\n</div>",
            "text/plain": "   PassengerId  Survived  Pclass  \\\n0            1         0       3   \n1            2         1       1   \n2            3         1       3   \n3            4         1       1   \n4            5         0       3   \n5            6         0       3   \n6            7         0       1   \n7            8         0       3   \n8            9         1       3   \n9           10         1       2   \n\n                                                Name     Sex   Age  SibSp  \\\n0                            Braund, Mr. Owen Harris    male  22.0      1   \n1  Cumings, Mrs. John Bradley (Florence Briggs Th...  female  38.0      1   \n2                             Heikkinen, Miss. Laina  female  26.0      0   \n3       Futrelle, Mrs. Jacques Heath (Lily May Peel)  female  35.0      1   \n4                           Allen, Mr. William Henry    male  35.0      0   \n5                                   Moran, Mr. James    male   NaN      0   \n6                            McCarthy, Mr. Timothy J    male  54.0      0   \n7                     Palsson, Master. Gosta Leonard    male   2.0      3   \n8  Johnson, Mrs. Oscar W (Elisabeth Vilhelmina Berg)  female  27.0      0   \n9                Nasser, Mrs. Nicholas (Adele Achem)  female  14.0      1   \n\n   Parch            Ticket     Fare Cabin Embarked  \n0      0         A/5 21171   7.2500   NaN        S  \n1      0          PC 17599  71.2833   C85        C  \n2      0  STON/O2. 3101282   7.9250   NaN        S  \n3      0            113803  53.1000  C123        S  \n4      0            373450   8.0500   NaN        S  \n5      0            330877   8.4583   NaN        Q  \n6      0             17463  51.8625   E46        S  \n7      1            349909  21.0750   NaN        S  \n8      2            347742  11.1333   NaN        S  \n9      0            237736  30.0708   NaN        C  "
          },
          "execution_count": 4,
          "metadata": {},
          "output_type": "execute_result"
        }
      ]
    },
    {
      "metadata": {
        "trusted": false
      },
      "cell_type": "code",
      "source": "data.describe()",
      "execution_count": 5,
      "outputs": [
        {
          "data": {
            "text/plain": "PassengerId      0\nSurvived         0\nPclass           0\nName             0\nSex              0\nAge            177\nSibSp            0\nParch            0\nTicket           0\nFare             0\nCabin          687\nEmbarked         2\ndtype: int64"
          },
          "execution_count": 5,
          "metadata": {},
          "output_type": "execute_result"
        }
      ]
    },
    {
      "metadata": {},
      "cell_type": "markdown",
      "source": "<a id=section3></a>"
    },
    {
      "metadata": {
        "_cell_guid": "6c7d2500-95b1-4057-98f7-39100e8a6d7f",
        "_uuid": "13fd8422db7a1ceae9ebb002df452e8293a9ab0c"
      },
      "cell_type": "markdown",
      "source": "## 3. Preprocessing the data"
    },
    {
      "metadata": {
        "trusted": true
      },
      "cell_type": "code",
      "source": "#Distribution of Target variable\n\nf, axes = plt.subplots( figsize=(12, 10), sharex=True) \nsns.despine(left=True)\n\nsns.distplot(data.winpercent, color=\"b\")",
      "execution_count": null,
      "outputs": []
    },
    {
      "metadata": {},
      "cell_type": "markdown",
      "source": "Target variable \"Winpercent\" is Normally distributed."
    },
    {
      "metadata": {
        "trusted": true
      },
      "cell_type": "code",
      "source": "#Distribution of continuous Explanatory variable\n\nf, axes = plt.subplots( figsize=(12, 10), sharex=True) \nsns.despine(left=True)\nsns.distplot(data.sugarpercent, color=\"r\")",
      "execution_count": null,
      "outputs": []
    },
    {
      "metadata": {
        "trusted": true
      },
      "cell_type": "code",
      "source": "f, axes = plt.subplots( figsize=(12, 10), sharex=True) \nsns.despine(left=True)\nsns.distplot(data.pricepercent, color=\"g\")",
      "execution_count": null,
      "outputs": []
    },
    {
      "metadata": {},
      "cell_type": "markdown",
      "source": "Explanatory variables - sugarpercent and pricepercent are Normally Distributed."
    },
    {
      "metadata": {
        "trusted": true
      },
      "cell_type": "code",
      "source": "#Modify winpercent to make it similar to other percent values.\ndata['winpercent'] = data['winpercent']/100\ndata.head(10)",
      "execution_count": null,
      "outputs": []
    },
    {
      "metadata": {
        "trusted": true
      },
      "cell_type": "code",
      "source": "#Popularity of various candies\npopularity = data[['competitorname','winpercent']].sort_values(by='winpercent')\npd.concat([popularity.head(5),popularity.tail(5)],axis=0).plot(x='competitorname',y='winpercent',kind='barh',title='Popularity of various candies',sort_columns=True,figsize = (10,5),legend=False)",
      "execution_count": null,
      "outputs": []
    },
    {
      "metadata": {
        "trusted": true
      },
      "cell_type": "code",
      "source": "# Top 5 most popular and least popular candies\npopularity = data.sort_values(by=['winpercent'], ascending=True)\npd.concat([popularity.head(5),popularity.tail(5)],axis=0).plot(x='competitorname',y='winpercent',kind='barh',title='Popularity of various candies',sort_columns=True,figsize = (10,5),legend=True);",
      "execution_count": null,
      "outputs": []
    },
    {
      "metadata": {
        "trusted": true
      },
      "cell_type": "code",
      "source": "# Competitors which are not chocolaty but winners\nnochocolate = data[data['chocolate']==0].sort_values(by=['winpercent'], ascending=True).head(10)\nnochocolate",
      "execution_count": null,
      "outputs": []
    },
    {
      "metadata": {
        "trusted": true
      },
      "cell_type": "code",
      "source": "nochocolate.plot(x='competitorname', y='winpercent', kind='barh', title='non chocolaty winners', sort_columns=True,figsize = (10,5), legend=True);",
      "execution_count": null,
      "outputs": []
    },
    {
      "metadata": {
        "trusted": true
      },
      "cell_type": "code",
      "source": "# Top liked and cheap competitors.\nd2 = data.sort_values(by=['winpercent', 'pricepercent'], ascending=False).head(10)\nd2\nd2.plot(x='competitorname', y='winpercent', kind='barh', title='top winbyprice competitors', sort_columns=True,figsize = (10,5), legend=True);",
      "execution_count": null,
      "outputs": []
    },
    {
      "metadata": {
        "trusted": true
      },
      "cell_type": "code",
      "source": "# top 10 sugary candies\nd3=data.sort_values(by=['sugarpercent'], ascending=True).head(10)\nd3.plot(x='competitorname', y='sugarpercent', kind='barh', title='top sugary candies',figsize = (10,5), legend=True);",
      "execution_count": null,
      "outputs": []
    },
    {
      "metadata": {
        "trusted": true
      },
      "cell_type": "code",
      "source": "# chocolaty as well as fruity candies\ndata[(data['chocolate']==1)&(data['fruity']==1)]",
      "execution_count": null,
      "outputs": []
    },
    {
      "metadata": {},
      "cell_type": "markdown",
      "source": "#Establishing __correlation__ between all the features using __heatmap__."
    },
    {
      "metadata": {
        "trusted": true
      },
      "cell_type": "code",
      "source": "# correlation heatmap\nplt.figure(figsize = (20,8))        \nsns.heatmap(data.corr(),annot=True, cmap = 'coolwarm')",
      "execution_count": null,
      "outputs": []
    },
    {
      "metadata": {},
      "cell_type": "markdown",
      "source": "Correlation between all variables is <0.8."
    },
    {
      "metadata": {},
      "cell_type": "markdown",
      "source": "## 4. Model fitting and evaluation "
    },
    {
      "metadata": {},
      "cell_type": "markdown",
      "source": "<a id=section501></a>"
    },
    {
      "metadata": {
        "collapsed": true,
        "trusted": false
      },
      "cell_type": "code",
      "source": "# prepare data for training set\n\n#X- all columns except species\nX = data.iloc[:, 1:-1]\n\n#Y - last column\ny = data.iloc[:, -1]\n\nprint(X,y)",
      "execution_count": null,
      "outputs": []
    },
    {
      "metadata": {
        "trusted": true
      },
      "cell_type": "code",
      "source": "#Test-train split\nfrom sklearn.model_selection import train_test_split\nfrom sklearn.metrics import mean_squared_error\nX_train, X_test, y_train, y_test = train_test_split(X, y, test_size=0.2, random_state=42)",
      "execution_count": null,
      "outputs": []
    },
    {
      "metadata": {
        "trusted": true
      },
      "cell_type": "code",
      "source": "#Model1 - Lineaar regression\nfrom sklearn.linear_model import LinearRegression\nfrom sklearn import metrics\n\nlinreg = LinearRegression()\n\nlinreg.fit(X_train,y_train) #calculation of coefficients\n\ny_pred_test= linreg.predict(X_test) \nRMSE_test = np.sqrt(metrics.mean_squared_error(y_test, y_pred_test))  \n\n\ny_pred_train = linreg.predict(X_train) \nRMSE_train_LR = np.sqrt(metrics.mean_squared_error(y_train, y_pred_train)) ",
      "execution_count": null,
      "outputs": []
    },
    {
      "metadata": {
        "trusted": true
      },
      "cell_type": "code",
      "source": "y_pred_test",
      "execution_count": null,
      "outputs": []
    },
    {
      "metadata": {
        "trusted": true
      },
      "cell_type": "code",
      "source": "print('Intercept:',linreg.intercept_)                                    \nprint('Coefficients:',linreg.coef_) ",
      "execution_count": null,
      "outputs": []
    },
    {
      "metadata": {
        "trusted": true
      },
      "cell_type": "code",
      "source": "y_test",
      "execution_count": null,
      "outputs": []
    },
    {
      "metadata": {
        "trusted": true
      },
      "cell_type": "code",
      "source": "RMSE_test_LR",
      "execution_count": null,
      "outputs": []
    },
    {
      "metadata": {
        "trusted": true
      },
      "cell_type": "code",
      "source": "#Model2 - DecisionTreeRegression\nfrom sklearn.tree import DecisionTreeRegressor\nDTreg = DecisionTreeRegressor(max_depth=5)\nDTreg.fit(X_train,y_train)\ny_pred_test= DTreg.predict(X_test) \nRMSE_test_DT = np.sqrt(metrics.mean_squared_error(y_test, y_pred_test)) \nRMSE_test_DT",
      "execution_count": null,
      "outputs": []
    },
    {
      "metadata": {
        "trusted": true
      },
      "cell_type": "code",
      "source": "#Model3 - RandomForestRegression\nfrom sklearn.ensemble import RandomForestRegressor\nRFreg = RandomForestRegressor(n_estimators=200)\nRFreg.fit(X_train, y_train)\ny_pred_test = RFreg.predict(X_test)\nRMSE_test =np.sqrt(metrics.mean_squared_error(y_test, y_pred_test))\nRMSE_test_DT",
      "execution_count": null,
      "outputs": []
    }
  ],
  "metadata": {
    "kernelspec": {
      "name": "python3",
      "display_name": "Python 3",
      "language": "python"
    },
    "language_info": {
      "mimetype": "text/x-python",
      "nbconvert_exporter": "python",
      "name": "python",
      "pygments_lexer": "ipython3",
      "version": "3.5.4",
      "file_extension": ".py",
      "codemirror_mode": {
        "version": 3,
        "name": "ipython"
      }
    }
  },
  "nbformat": 4,
  "nbformat_minor": 1
}