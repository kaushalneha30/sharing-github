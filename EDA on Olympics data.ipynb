{
  "cells": [
    {
      "metadata": {
        "trusted": true
      },
      "cell_type": "code",
      "source": "import numpy as np                     \n\nimport pandas as pd\npd.set_option('mode.chained_assignment', None)      # To suppress pandas warnings.\npd.set_option('display.max_colwidth', -1)           # To display all the data in each column\npd.options.display.max_columns = 50                 # To display every column of the dataset in head()\n\nimport warnings\nwarnings.filterwarnings('ignore') ",
      "execution_count": 24,
      "outputs": []
    },
    {
      "metadata": {
        "trusted": true
      },
      "cell_type": "code",
      "source": "import matplotlib.pyplot as plt\n%matplotlib inline\n\nimport seaborn as sns\nsns.set(style='whitegrid', font_scale=1.3, color_codes=True) ",
      "execution_count": 25,
      "outputs": []
    },
    {
      "metadata": {
        "trusted": true
      },
      "cell_type": "code",
      "source": "# Install and update plotly using this command to the latest version (higher than version 4.0.0)\n\n!pip install plotly --upgrade",
      "execution_count": 26,
      "outputs": [
        {
          "output_type": "stream",
          "text": "\u001b[33mWARNING: Retrying (Retry(total=4, connect=None, read=None, redirect=None, status=None)) after connection broken by 'ConnectTimeoutError(<pip._vendor.urllib3.connection.VerifiedHTTPSConnection object at 0x7fdcf3f156d8>, 'Connection to webproxy timed out. (connect timeout=15)')': /simple/plotly/\u001b[0m\n\u001b[33mWARNING: Retrying (Retry(total=3, connect=None, read=None, redirect=None, status=None)) after connection broken by 'ConnectTimeoutError(<pip._vendor.urllib3.connection.VerifiedHTTPSConnection object at 0x7fdcf3f15518>, 'Connection to webproxy timed out. (connect timeout=15)')': /simple/plotly/\u001b[0m\n\u001b[33mWARNING: Retrying (Retry(total=2, connect=None, read=None, redirect=None, status=None)) after connection broken by 'ConnectTimeoutError(<pip._vendor.urllib3.connection.VerifiedHTTPSConnection object at 0x7fdcf3f0f208>, 'Connection to webproxy timed out. (connect timeout=15)')': /simple/plotly/\u001b[0m\n\u001b[33mWARNING: Retrying (Retry(total=1, connect=None, read=None, redirect=None, status=None)) after connection broken by 'ConnectTimeoutError(<pip._vendor.urllib3.connection.VerifiedHTTPSConnection object at 0x7fdcf3f0f0f0>, 'Connection to webproxy timed out. (connect timeout=15)')': /simple/plotly/\u001b[0m\n\u001b[33mWARNING: Retrying (Retry(total=0, connect=None, read=None, redirect=None, status=None)) after connection broken by 'ConnectTimeoutError(<pip._vendor.urllib3.connection.VerifiedHTTPSConnection object at 0x7fdcf3f0f3c8>, 'Connection to webproxy timed out. (connect timeout=15)')': /simple/plotly/\u001b[0m\nRequirement already up-to-date: plotly in /home/nbuser/anaconda3_501/lib/python3.6/site-packages (4.2.1)\nRequirement already satisfied, skipping upgrade: six in /home/nbuser/anaconda3_501/lib/python3.6/site-packages (from plotly) (1.11.0)\nRequirement already satisfied, skipping upgrade: retrying>=1.3.3 in /home/nbuser/anaconda3_501/lib/python3.6/site-packages (from plotly) (1.3.3)\n",
          "name": "stdout"
        }
      ]
    },
    {
      "metadata": {
        "trusted": true
      },
      "cell_type": "code",
      "source": "! pip install chart_studio",
      "execution_count": 27,
      "outputs": [
        {
          "output_type": "stream",
          "text": "\u001b[33mWARNING: Retrying (Retry(total=4, connect=None, read=None, redirect=None, status=None)) after connection broken by 'ConnectTimeoutError(<pip._vendor.urllib3.connection.VerifiedHTTPSConnection object at 0x7f7e8b4cd630>, 'Connection to webproxy timed out. (connect timeout=15)')': /simple/chart-studio/\u001b[0m\n\u001b[33mWARNING: Retrying (Retry(total=3, connect=None, read=None, redirect=None, status=None)) after connection broken by 'ConnectTimeoutError(<pip._vendor.urllib3.connection.VerifiedHTTPSConnection object at 0x7f7e8b4cd4e0>, 'Connection to webproxy timed out. (connect timeout=15)')': /simple/chart-studio/\u001b[0m\n\u001b[33mWARNING: Retrying (Retry(total=2, connect=None, read=None, redirect=None, status=None)) after connection broken by 'ConnectTimeoutError(<pip._vendor.urllib3.connection.VerifiedHTTPSConnection object at 0x7f7e8b4cd518>, 'Connection to webproxy timed out. (connect timeout=15)')': /simple/chart-studio/\u001b[0m\n\u001b[33mWARNING: Retrying (Retry(total=1, connect=None, read=None, redirect=None, status=None)) after connection broken by 'ConnectTimeoutError(<pip._vendor.urllib3.connection.VerifiedHTTPSConnection object at 0x7f7e8b4cd278>, 'Connection to webproxy timed out. (connect timeout=15)')': /simple/chart-studio/\u001b[0m\n\u001b[33mWARNING: Retrying (Retry(total=0, connect=None, read=None, redirect=None, status=None)) after connection broken by 'ConnectTimeoutError(<pip._vendor.urllib3.connection.VerifiedHTTPSConnection object at 0x7f7e8b4cd198>, 'Connection to webproxy timed out. (connect timeout=15)')': /simple/chart-studio/\u001b[0m\n\u001b[31mERROR: Could not find a version that satisfies the requirement chart_studio (from versions: none)\u001b[0m\n\u001b[31mERROR: No matching distribution found for chart_studio\u001b[0m\n",
          "name": "stdout"
        }
      ]
    },
    {
      "metadata": {
        "trusted": true
      },
      "cell_type": "code",
      "source": "# Making plotly specific imports\n# These imports are necessary to use plotly offline without signing in to their website.\n\nfrom plotly.offline import init_notebook_mode, iplot\nimport plotly.graph_objs as go\nimport chart_studio.plotly as py\nfrom plotly import tools\ninit_notebook_mode(connected=True)",
      "execution_count": null,
      "outputs": []
    },
    {
      "metadata": {
        "trusted": true
      },
      "cell_type": "code",
      "source": "import sys                                                                      # Import packages\nfrom matplotlib.pyplot import pie, axis, show\n%matplotlib inline                                                              \n\nimport warnings                                                                 # Ignore warning related to pandas_profiling\nwarnings.filterwarnings('ignore') \n\npd.set_option('display.max_columns', 100)                                       # Display all dataframe columns in outputs (it has 27 columns, which is wider than the notebook)\n                                                                                # This sets it up to dispaly with a horizontal scroll instead of hiding the middle columns\n\nds = pd.read_csv(\"https://raw.githubusercontent.com/insaid2018/Term-1/master/Data/Projects/summer%20olympics.csv\")                       # Load in the dataset as mh",
      "execution_count": null,
      "outputs": []
    },
    {
      "metadata": {
        "trusted": true
      },
      "cell_type": "code",
      "source": "ds.head() ",
      "execution_count": null,
      "outputs": []
    },
    {
      "metadata": {
        "trusted": true
      },
      "cell_type": "code",
      "source": "ds.dtypes",
      "execution_count": null,
      "outputs": []
    },
    {
      "metadata": {
        "trusted": true
      },
      "cell_type": "code",
      "source": "ds.describe(include = 'all')   ",
      "execution_count": null,
      "outputs": []
    },
    {
      "metadata": {
        "trusted": true
      },
      "cell_type": "code",
      "source": "ds.sample(10)  ",
      "execution_count": null,
      "outputs": []
    },
    {
      "metadata": {
        "trusted": true
      },
      "cell_type": "code",
      "source": "#!pip install pandas-profiling==1.4.3\n!pip install -q datascience\n!pip install -q pandas-profiling\n",
      "execution_count": null,
      "outputs": []
    },
    {
      "metadata": {
        "trusted": true
      },
      "cell_type": "code",
      "source": "                                                 # Get a quick overview for all the variables using pandas_profiling                                         \nfrom pandas_profiling import ProfileReport",
      "execution_count": null,
      "outputs": []
    },
    {
      "metadata": {
        "trusted": true
      },
      "cell_type": "code",
      "source": "profile = ProfileReport(ds, title='Pandas Profiling Report', html={'style':{'full_width':True}})",
      "execution_count": null,
      "outputs": []
    },
    {
      "metadata": {
        "trusted": true,
        "scrolled": true
      },
      "cell_type": "code",
      "source": "profile = pandas_profiling.ProfileReport(ds)",
      "execution_count": null,
      "outputs": []
    },
    {
      "metadata": {
        "trusted": true
      },
      "cell_type": "code",
      "source": "profile.to_file(\"ds_pre_profiling.html\")",
      "execution_count": null,
      "outputs": []
    },
    {
      "metadata": {
        "trusted": true
      },
      "cell_type": "code",
      "source": "print(\"'Year'\")                                                                \nprint(\"Minimum value: \", ds[\"Year\"].min())\nprint(\"Maximum value: \", ds[\"Year\"].max())\nprint(\"How many values are NaN?: \", pd.isnull(ds['Year']).sum())",
      "execution_count": null,
      "outputs": []
    },
    {
      "metadata": {
        "trusted": true
      },
      "cell_type": "code",
      "source": "print(\"Count of distinct responses for City:\", len(set(ds['City'])))      # Learn more about the variable Gender, which appears not to be standardized with 49 distinct responses.\nprint(\"Distinct responses for City:\", set(ds['City']))",
      "execution_count": null,
      "outputs": []
    },
    {
      "metadata": {
        "trusted": true
      },
      "cell_type": "code",
      "source": "print(\"Count of distinct responses for Sport:\", len(set(ds['Sport'])))      # Learn more about the variable Gender, which appears not to be standardized with 49 distinct responses.\nprint(\"Distinct responses for Sport:\", set(ds['Sport']))",
      "execution_count": null,
      "outputs": []
    },
    {
      "metadata": {
        "trusted": true
      },
      "cell_type": "code",
      "source": "print(\"Count of distinct responses for Discipline:\", len(set(ds['Discipline'])))      # Learn more about the variable Gender, which appears not to be standardized with 49 distinct responses.\nprint(\"Distinct responses for Discipline:\", set(ds['Discipline']))",
      "execution_count": null,
      "outputs": []
    },
    {
      "metadata": {
        "trusted": true
      },
      "cell_type": "code",
      "source": "print(\"Count of distinct responses for Athlete:\", len(set(ds['Athlete'])))      # Learn more about the variable Gender, which appears not to be standardized with 49 distinct responses.\n#print(\"Distinct responses for Discipline:\", set(ds['Discipline']))",
      "execution_count": null,
      "outputs": []
    },
    {
      "metadata": {
        "trusted": true
      },
      "cell_type": "code",
      "source": "31165-22762",
      "execution_count": null,
      "outputs": []
    },
    {
      "metadata": {
        "trusted": true
      },
      "cell_type": "code",
      "source": "print(\"Count of distinct responses for Country:\", len(set(ds['Country'])))      # Learn more about the variable Gender, which appears not to be standardized with 49 distinct responses.\nprint(\"Distinct responses for Country:\", set(ds['Country']))",
      "execution_count": null,
      "outputs": []
    },
    {
      "metadata": {
        "trusted": true
      },
      "cell_type": "code",
      "source": "print(\"Count of distinct responses for Gender:\", len(set(ds['Gender'])))      # Learn more about the variable Gender, which appears not to be standardized with 49 distinct responses.\nprint(\"Distinct responses for Gender:\", set(ds['Gender']))",
      "execution_count": null,
      "outputs": []
    },
    {
      "metadata": {
        "trusted": true
      },
      "cell_type": "code",
      "source": "print(\"Count of distinct responses for Event:\", len(set(ds['Event'])))      # Learn more about the variable Gender, which appears not to be standardized with 49 distinct responses.\nprint(\"Distinct responses for Event:\", set(ds['Event']))",
      "execution_count": null,
      "outputs": []
    },
    {
      "metadata": {
        "trusted": true
      },
      "cell_type": "code",
      "source": "print(\"Count of distinct responses for Medal:\", len(set(ds['Medal'])))      # Learn more about the variable Gender, which appears not to be standardized with 49 distinct responses.\nprint(\"Distinct responses for Medal:\", set(ds['Medal']))",
      "execution_count": null,
      "outputs": []
    },
    {
      "metadata": {},
      "cell_type": "markdown",
      "source": " Final observations\n    \n•Athelete names - same format for first and second name\n"
    },
    {
      "metadata": {
        "trusted": true
      },
      "cell_type": "code",
      "source": "mh['age_Group'] = pd.cut(mh['age_clean'].dropna(),\n                         [0,18,25,35,45,99],\n                         labels=['<18','18-24','25-34','35-44','45+'], include_lowest=True)",
      "execution_count": null,
      "outputs": []
    },
    {
      "metadata": {
        "trusted": true
      },
      "cell_type": "code",
      "source": "fig,ax =plt.subplots(figsize=(8,6))\nsns.countplot(data = mh,x = 'age_Group', hue='treatment')\nplt.title('Age Group vs Treatment')",
      "execution_count": null,
      "outputs": []
    },
    {
      "metadata": {
        "trusted": true
      },
      "cell_type": "code",
      "source": "",
      "execution_count": null,
      "outputs": []
    }
  ],
  "metadata": {
    "kernelspec": {
      "name": "python36",
      "display_name": "Python 3.6",
      "language": "python"
    },
    "language_info": {
      "mimetype": "text/x-python",
      "nbconvert_exporter": "python",
      "name": "python",
      "pygments_lexer": "ipython3",
      "version": "3.6.6",
      "file_extension": ".py",
      "codemirror_mode": {
        "version": 3,
        "name": "ipython"
      }
    }
  },
  "nbformat": 4,
  "nbformat_minor": 2
}